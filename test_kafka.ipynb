{
 "cells": [
  {
   "cell_type": "code",
   "execution_count": null,
   "metadata": {},
   "outputs": [],
   "source": [
    "%pip install plotly\n",
    "%pip install nbformat"
   ]
  },
  {
   "cell_type": "code",
   "execution_count": 2,
   "metadata": {},
   "outputs": [],
   "source": [
    "from kafka.admin import KafkaAdminClient, NewTopic\n",
    "from kafka.structs import TopicPartition\n",
    "\n",
    "import plotly.express as px\n",
    "import json\n",
    "import pandas as pd"
   ]
  },
  {
   "cell_type": "code",
   "execution_count": 24,
   "metadata": {},
   "outputs": [
    {
     "name": "stdout",
     "output_type": "stream",
     "text": [
      "b'TEST'\n",
      "b'TEST2'\n"
     ]
    },
    {
     "data": {
      "text/html": [
       "<div>\n",
       "<style scoped>\n",
       "    .dataframe tbody tr th:only-of-type {\n",
       "        vertical-align: middle;\n",
       "    }\n",
       "\n",
       "    .dataframe tbody tr th {\n",
       "        vertical-align: top;\n",
       "    }\n",
       "\n",
       "    .dataframe thead th {\n",
       "        text-align: right;\n",
       "    }\n",
       "</style>\n",
       "<table border=\"1\" class=\"dataframe\">\n",
       "  <thead>\n",
       "    <tr style=\"text-align: right;\">\n",
       "      <th></th>\n",
       "      <th>Minutes5UTC</th>\n",
       "      <th>Minutes5DK</th>\n",
       "      <th>PriceArea</th>\n",
       "      <th>ProductionLt100MW</th>\n",
       "      <th>ProductionGe100MW</th>\n",
       "      <th>OffshoreWindPower</th>\n",
       "      <th>OnshoreWindPower</th>\n",
       "      <th>SolarPower</th>\n",
       "      <th>ExchangeGreatBelt</th>\n",
       "      <th>ExchangeGermany</th>\n",
       "      <th>ExchangeNetherlands</th>\n",
       "      <th>ExchangeNorway</th>\n",
       "      <th>ExchangeSweden</th>\n",
       "      <th>BornholmSE4</th>\n",
       "    </tr>\n",
       "  </thead>\n",
       "  <tbody>\n",
       "    <tr>\n",
       "      <th>0</th>\n",
       "      <td>2023-02-06T09:20:00</td>\n",
       "      <td>2023-02-06T10:20:00</td>\n",
       "      <td>DK1</td>\n",
       "      <td>594.280029</td>\n",
       "      <td>1022.679993</td>\n",
       "      <td>-7.280000</td>\n",
       "      <td>28.850000</td>\n",
       "      <td>218.990005</td>\n",
       "      <td>-354.000000</td>\n",
       "      <td>-568.909973</td>\n",
       "      <td>700.380005</td>\n",
       "      <td>1107.680054</td>\n",
       "      <td>236.000000</td>\n",
       "      <td>NaN</td>\n",
       "    </tr>\n",
       "    <tr>\n",
       "      <th>1</th>\n",
       "      <td>2023-02-06T09:20:00</td>\n",
       "      <td>2023-02-06T10:20:00</td>\n",
       "      <td>DK2</td>\n",
       "      <td>195.460007</td>\n",
       "      <td>548.739990</td>\n",
       "      <td>31.840000</td>\n",
       "      <td>25.070000</td>\n",
       "      <td>77.379997</td>\n",
       "      <td>354.000000</td>\n",
       "      <td>-421.899994</td>\n",
       "      <td>NaN</td>\n",
       "      <td>NaN</td>\n",
       "      <td>974.669983</td>\n",
       "      <td>32.049999</td>\n",
       "    </tr>\n",
       "    <tr>\n",
       "      <th>2</th>\n",
       "      <td>2023-02-06T09:25:00</td>\n",
       "      <td>2023-02-06T10:25:00</td>\n",
       "      <td>DK1</td>\n",
       "      <td>592.340027</td>\n",
       "      <td>1012.020020</td>\n",
       "      <td>-6.270000</td>\n",
       "      <td>22.940001</td>\n",
       "      <td>234.770004</td>\n",
       "      <td>-354.000000</td>\n",
       "      <td>-558.880005</td>\n",
       "      <td>700.380005</td>\n",
       "      <td>1107.339966</td>\n",
       "      <td>236.000000</td>\n",
       "      <td>NaN</td>\n",
       "    </tr>\n",
       "    <tr>\n",
       "      <th>3</th>\n",
       "      <td>2023-02-06T09:25:00</td>\n",
       "      <td>2023-02-06T10:25:00</td>\n",
       "      <td>DK2</td>\n",
       "      <td>198.199997</td>\n",
       "      <td>551.010010</td>\n",
       "      <td>24.440001</td>\n",
       "      <td>24.740000</td>\n",
       "      <td>76.830002</td>\n",
       "      <td>354.000000</td>\n",
       "      <td>-421.799988</td>\n",
       "      <td>NaN</td>\n",
       "      <td>NaN</td>\n",
       "      <td>1017.760010</td>\n",
       "      <td>33.689999</td>\n",
       "    </tr>\n",
       "    <tr>\n",
       "      <th>4</th>\n",
       "      <td>2023-02-06T09:30:00</td>\n",
       "      <td>2023-02-06T10:30:00</td>\n",
       "      <td>DK1</td>\n",
       "      <td>597.530029</td>\n",
       "      <td>993.780029</td>\n",
       "      <td>-2.800000</td>\n",
       "      <td>20.780001</td>\n",
       "      <td>235.080002</td>\n",
       "      <td>-354.000000</td>\n",
       "      <td>-538.559998</td>\n",
       "      <td>700.380005</td>\n",
       "      <td>1107.770020</td>\n",
       "      <td>236.000000</td>\n",
       "      <td>NaN</td>\n",
       "    </tr>\n",
       "    <tr>\n",
       "      <th>...</th>\n",
       "      <td>...</td>\n",
       "      <td>...</td>\n",
       "      <td>...</td>\n",
       "      <td>...</td>\n",
       "      <td>...</td>\n",
       "      <td>...</td>\n",
       "      <td>...</td>\n",
       "      <td>...</td>\n",
       "      <td>...</td>\n",
       "      <td>...</td>\n",
       "      <td>...</td>\n",
       "      <td>...</td>\n",
       "      <td>...</td>\n",
       "      <td>...</td>\n",
       "    </tr>\n",
       "    <tr>\n",
       "      <th>107</th>\n",
       "      <td>2023-02-03T18:15:00</td>\n",
       "      <td>2023-02-03T19:15:00</td>\n",
       "      <td>DK2</td>\n",
       "      <td>180.910004</td>\n",
       "      <td>497.049988</td>\n",
       "      <td>910.369995</td>\n",
       "      <td>401.149994</td>\n",
       "      <td>-0.220000</td>\n",
       "      <td>-337.769989</td>\n",
       "      <td>-382.769989</td>\n",
       "      <td>NaN</td>\n",
       "      <td>NaN</td>\n",
       "      <td>499.779999</td>\n",
       "      <td>-10.820000</td>\n",
       "    </tr>\n",
       "    <tr>\n",
       "      <th>108</th>\n",
       "      <td>2023-02-03T18:35:00</td>\n",
       "      <td>2023-02-03T19:35:00</td>\n",
       "      <td>DK1</td>\n",
       "      <td>265.899994</td>\n",
       "      <td>613.409973</td>\n",
       "      <td>1096.869995</td>\n",
       "      <td>1362.599976</td>\n",
       "      <td>5.360000</td>\n",
       "      <td>334.250000</td>\n",
       "      <td>573.330017</td>\n",
       "      <td>-700.429993</td>\n",
       "      <td>-690.000000</td>\n",
       "      <td>214.000000</td>\n",
       "      <td>NaN</td>\n",
       "    </tr>\n",
       "    <tr>\n",
       "      <th>109</th>\n",
       "      <td>2023-02-03T18:35:00</td>\n",
       "      <td>2023-02-03T19:35:00</td>\n",
       "      <td>DK2</td>\n",
       "      <td>179.250000</td>\n",
       "      <td>479.369995</td>\n",
       "      <td>935.940002</td>\n",
       "      <td>381.649994</td>\n",
       "      <td>-0.240000</td>\n",
       "      <td>-334.250000</td>\n",
       "      <td>-381.489990</td>\n",
       "      <td>NaN</td>\n",
       "      <td>NaN</td>\n",
       "      <td>469.579987</td>\n",
       "      <td>-10.750000</td>\n",
       "    </tr>\n",
       "    <tr>\n",
       "      <th>110</th>\n",
       "      <td>2023-02-06T09:35:00</td>\n",
       "      <td>2023-02-06T10:35:00</td>\n",
       "      <td>DK1</td>\n",
       "      <td>600.659973</td>\n",
       "      <td>986.190002</td>\n",
       "      <td>-0.590000</td>\n",
       "      <td>17.170000</td>\n",
       "      <td>237.110001</td>\n",
       "      <td>-354.000000</td>\n",
       "      <td>-543.590027</td>\n",
       "      <td>700.380005</td>\n",
       "      <td>1107.670044</td>\n",
       "      <td>236.000000</td>\n",
       "      <td>NaN</td>\n",
       "    </tr>\n",
       "    <tr>\n",
       "      <th>111</th>\n",
       "      <td>2023-02-06T09:35:00</td>\n",
       "      <td>2023-02-06T10:35:00</td>\n",
       "      <td>DK2</td>\n",
       "      <td>197.020004</td>\n",
       "      <td>545.880005</td>\n",
       "      <td>18.680000</td>\n",
       "      <td>25.100000</td>\n",
       "      <td>90.550003</td>\n",
       "      <td>354.000000</td>\n",
       "      <td>-422.339996</td>\n",
       "      <td>NaN</td>\n",
       "      <td>NaN</td>\n",
       "      <td>976.250000</td>\n",
       "      <td>32.529999</td>\n",
       "    </tr>\n",
       "  </tbody>\n",
       "</table>\n",
       "<p>112 rows × 14 columns</p>\n",
       "</div>"
      ],
      "text/plain": [
       "             Minutes5UTC           Minutes5DK PriceArea  ProductionLt100MW  \\\n",
       "0    2023-02-06T09:20:00  2023-02-06T10:20:00       DK1         594.280029   \n",
       "1    2023-02-06T09:20:00  2023-02-06T10:20:00       DK2         195.460007   \n",
       "2    2023-02-06T09:25:00  2023-02-06T10:25:00       DK1         592.340027   \n",
       "3    2023-02-06T09:25:00  2023-02-06T10:25:00       DK2         198.199997   \n",
       "4    2023-02-06T09:30:00  2023-02-06T10:30:00       DK1         597.530029   \n",
       "..                   ...                  ...       ...                ...   \n",
       "107  2023-02-03T18:15:00  2023-02-03T19:15:00       DK2         180.910004   \n",
       "108  2023-02-03T18:35:00  2023-02-03T19:35:00       DK1         265.899994   \n",
       "109  2023-02-03T18:35:00  2023-02-03T19:35:00       DK2         179.250000   \n",
       "110  2023-02-06T09:35:00  2023-02-06T10:35:00       DK1         600.659973   \n",
       "111  2023-02-06T09:35:00  2023-02-06T10:35:00       DK2         197.020004   \n",
       "\n",
       "     ProductionGe100MW  OffshoreWindPower  OnshoreWindPower  SolarPower  \\\n",
       "0          1022.679993          -7.280000         28.850000  218.990005   \n",
       "1           548.739990          31.840000         25.070000   77.379997   \n",
       "2          1012.020020          -6.270000         22.940001  234.770004   \n",
       "3           551.010010          24.440001         24.740000   76.830002   \n",
       "4           993.780029          -2.800000         20.780001  235.080002   \n",
       "..                 ...                ...               ...         ...   \n",
       "107         497.049988         910.369995        401.149994   -0.220000   \n",
       "108         613.409973        1096.869995       1362.599976    5.360000   \n",
       "109         479.369995         935.940002        381.649994   -0.240000   \n",
       "110         986.190002          -0.590000         17.170000  237.110001   \n",
       "111         545.880005          18.680000         25.100000   90.550003   \n",
       "\n",
       "     ExchangeGreatBelt  ExchangeGermany  ExchangeNetherlands  ExchangeNorway  \\\n",
       "0          -354.000000      -568.909973           700.380005     1107.680054   \n",
       "1           354.000000      -421.899994                  NaN             NaN   \n",
       "2          -354.000000      -558.880005           700.380005     1107.339966   \n",
       "3           354.000000      -421.799988                  NaN             NaN   \n",
       "4          -354.000000      -538.559998           700.380005     1107.770020   \n",
       "..                 ...              ...                  ...             ...   \n",
       "107        -337.769989      -382.769989                  NaN             NaN   \n",
       "108         334.250000       573.330017          -700.429993     -690.000000   \n",
       "109        -334.250000      -381.489990                  NaN             NaN   \n",
       "110        -354.000000      -543.590027           700.380005     1107.670044   \n",
       "111         354.000000      -422.339996                  NaN             NaN   \n",
       "\n",
       "     ExchangeSweden  BornholmSE4  \n",
       "0        236.000000          NaN  \n",
       "1        974.669983    32.049999  \n",
       "2        236.000000          NaN  \n",
       "3       1017.760010    33.689999  \n",
       "4        236.000000          NaN  \n",
       "..              ...          ...  \n",
       "107      499.779999   -10.820000  \n",
       "108      214.000000          NaN  \n",
       "109      469.579987   -10.750000  \n",
       "110      236.000000          NaN  \n",
       "111      976.250000    32.529999  \n",
       "\n",
       "[112 rows x 14 columns]"
      ]
     },
     "execution_count": 24,
     "metadata": {},
     "output_type": "execute_result"
    }
   ],
   "source": [
    "from kafka import KafkaConsumer\n",
    "\n",
    "# auto_offset_reset & group_id are CRUCIAL for it to work. No idea why\n",
    "consumer = KafkaConsumer('energy_api', consumer_timeout_ms=10000, bootstrap_servers = 'localhost:9092', auto_offset_reset='earliest', group_id=None)\n",
    "\n",
    "dfs = []\n",
    "\n",
    "partitions = consumer.partitions_for_topic('energy_api')\n",
    "\n",
    "for p in partitions:\n",
    "    topic_partition = TopicPartition('energy_api', p)\n",
    "    # Seek offset 0\n",
    "    # consumer.seek(partition=topic_partition, offset=0)\n",
    "    for msg in consumer:\n",
    "        try:\n",
    "            dict = json.loads(msg.value)\n",
    "            df = pd.DataFrame.from_records(dict)\n",
    "            dfs.append(df)\n",
    "            \n",
    "        except:\n",
    "            print(msg.value[:20])\n",
    "            continue\n",
    "df = pd.concat(dfs, ignore_index=True) # concatenate all the data frames in the list.\n",
    "df"
   ]
  },
  {
   "cell_type": "code",
   "execution_count": null,
   "metadata": {},
   "outputs": [],
   "source": [
    "df[\"Minutes5DK\"] = pd.to_datetime(df[\"Minutes5DK\"])\n",
    "df[\"Minutes5UTC\"] = pd.to_datetime(df[\"Minutes5UTC\"])"
   ]
  },
  {
   "cell_type": "code",
   "execution_count": null,
   "metadata": {},
   "outputs": [
    {
     "name": "stderr",
     "output_type": "stream",
     "text": [
      "/tmp/ipykernel_17291/493087497.py:1: FutureWarning: The default value of numeric_only in DataFrameGroupBy.mean is deprecated. In a future version, numeric_only will default to False. Either specify numeric_only or select only columns which should be valid for the function.\n",
      "  avg_by_minute = df.groupby(df.Minutes5DK).mean()\n"
     ]
    },
    {
     "data": {
      "text/html": [
       "<div>\n",
       "<style scoped>\n",
       "    .dataframe tbody tr th:only-of-type {\n",
       "        vertical-align: middle;\n",
       "    }\n",
       "\n",
       "    .dataframe tbody tr th {\n",
       "        vertical-align: top;\n",
       "    }\n",
       "\n",
       "    .dataframe thead th {\n",
       "        text-align: right;\n",
       "    }\n",
       "</style>\n",
       "<table border=\"1\" class=\"dataframe\">\n",
       "  <thead>\n",
       "    <tr style=\"text-align: right;\">\n",
       "      <th></th>\n",
       "      <th>ProductionLt100MW</th>\n",
       "      <th>ProductionGe100MW</th>\n",
       "      <th>OffshoreWindPower</th>\n",
       "      <th>OnshoreWindPower</th>\n",
       "      <th>SolarPower</th>\n",
       "      <th>ExchangeGreatBelt</th>\n",
       "      <th>ExchangeGermany</th>\n",
       "      <th>ExchangeNetherlands</th>\n",
       "      <th>ExchangeNorway</th>\n",
       "      <th>ExchangeSweden</th>\n",
       "      <th>BornholmSE4</th>\n",
       "    </tr>\n",
       "    <tr>\n",
       "      <th>Minutes5DK</th>\n",
       "      <th></th>\n",
       "      <th></th>\n",
       "      <th></th>\n",
       "      <th></th>\n",
       "      <th></th>\n",
       "      <th></th>\n",
       "      <th></th>\n",
       "      <th></th>\n",
       "      <th></th>\n",
       "      <th></th>\n",
       "      <th></th>\n",
       "    </tr>\n",
       "  </thead>\n",
       "  <tbody>\n",
       "    <tr>\n",
       "      <th>2023-02-05 16:20:00</th>\n",
       "      <td>272.690002</td>\n",
       "      <td>713.649994</td>\n",
       "      <td>586.270004</td>\n",
       "      <td>572.214970</td>\n",
       "      <td>34.605000</td>\n",
       "      <td>0.0</td>\n",
       "      <td>-547.839997</td>\n",
       "      <td>-646.130005</td>\n",
       "      <td>482.480011</td>\n",
       "      <td>434.820007</td>\n",
       "      <td>6.62</td>\n",
       "    </tr>\n",
       "    <tr>\n",
       "      <th>2023-02-05 16:25:00</th>\n",
       "      <td>272.429993</td>\n",
       "      <td>732.984985</td>\n",
       "      <td>577.854996</td>\n",
       "      <td>544.319992</td>\n",
       "      <td>30.280000</td>\n",
       "      <td>0.0</td>\n",
       "      <td>-518.699997</td>\n",
       "      <td>-646.130005</td>\n",
       "      <td>483.489990</td>\n",
       "      <td>439.464996</td>\n",
       "      <td>7.61</td>\n",
       "    </tr>\n",
       "    <tr>\n",
       "      <th>2023-02-05 16:30:00</th>\n",
       "      <td>274.644996</td>\n",
       "      <td>741.050018</td>\n",
       "      <td>582.299988</td>\n",
       "      <td>529.620003</td>\n",
       "      <td>22.830000</td>\n",
       "      <td>0.0</td>\n",
       "      <td>-505.309998</td>\n",
       "      <td>-646.130005</td>\n",
       "      <td>484.049988</td>\n",
       "      <td>443.309998</td>\n",
       "      <td>6.75</td>\n",
       "    </tr>\n",
       "    <tr>\n",
       "      <th>2023-02-05 16:35:00</th>\n",
       "      <td>277.295006</td>\n",
       "      <td>743.570007</td>\n",
       "      <td>570.980011</td>\n",
       "      <td>527.239994</td>\n",
       "      <td>18.264999</td>\n",
       "      <td>0.0</td>\n",
       "      <td>-504.899994</td>\n",
       "      <td>-646.130005</td>\n",
       "      <td>484.070007</td>\n",
       "      <td>469.755005</td>\n",
       "      <td>7.44</td>\n",
       "    </tr>\n",
       "    <tr>\n",
       "      <th>2023-02-05 16:40:00</th>\n",
       "      <td>279.835007</td>\n",
       "      <td>744.734985</td>\n",
       "      <td>562.394989</td>\n",
       "      <td>508.864986</td>\n",
       "      <td>14.715000</td>\n",
       "      <td>0.0</td>\n",
       "      <td>-507.010010</td>\n",
       "      <td>-646.130005</td>\n",
       "      <td>483.440002</td>\n",
       "      <td>519.609985</td>\n",
       "      <td>7.98</td>\n",
       "    </tr>\n",
       "  </tbody>\n",
       "</table>\n",
       "</div>"
      ],
      "text/plain": [
       "                     ProductionLt100MW  ProductionGe100MW  OffshoreWindPower  \\\n",
       "Minutes5DK                                                                     \n",
       "2023-02-05 16:20:00         272.690002         713.649994         586.270004   \n",
       "2023-02-05 16:25:00         272.429993         732.984985         577.854996   \n",
       "2023-02-05 16:30:00         274.644996         741.050018         582.299988   \n",
       "2023-02-05 16:35:00         277.295006         743.570007         570.980011   \n",
       "2023-02-05 16:40:00         279.835007         744.734985         562.394989   \n",
       "\n",
       "                     OnshoreWindPower  SolarPower  ExchangeGreatBelt  \\\n",
       "Minutes5DK                                                             \n",
       "2023-02-05 16:20:00        572.214970   34.605000                0.0   \n",
       "2023-02-05 16:25:00        544.319992   30.280000                0.0   \n",
       "2023-02-05 16:30:00        529.620003   22.830000                0.0   \n",
       "2023-02-05 16:35:00        527.239994   18.264999                0.0   \n",
       "2023-02-05 16:40:00        508.864986   14.715000                0.0   \n",
       "\n",
       "                     ExchangeGermany  ExchangeNetherlands  ExchangeNorway  \\\n",
       "Minutes5DK                                                                  \n",
       "2023-02-05 16:20:00      -547.839997          -646.130005      482.480011   \n",
       "2023-02-05 16:25:00      -518.699997          -646.130005      483.489990   \n",
       "2023-02-05 16:30:00      -505.309998          -646.130005      484.049988   \n",
       "2023-02-05 16:35:00      -504.899994          -646.130005      484.070007   \n",
       "2023-02-05 16:40:00      -507.010010          -646.130005      483.440002   \n",
       "\n",
       "                     ExchangeSweden  BornholmSE4  \n",
       "Minutes5DK                                        \n",
       "2023-02-05 16:20:00      434.820007         6.62  \n",
       "2023-02-05 16:25:00      439.464996         7.61  \n",
       "2023-02-05 16:30:00      443.309998         6.75  \n",
       "2023-02-05 16:35:00      469.755005         7.44  \n",
       "2023-02-05 16:40:00      519.609985         7.98  "
      ]
     },
     "execution_count": 4,
     "metadata": {},
     "output_type": "execute_result"
    }
   ],
   "source": [
    "avg_by_minute = df.groupby(df.Minutes5DK).mean()\n",
    "avg_by_minute"
   ]
  },
  {
   "cell_type": "code",
   "execution_count": null,
   "metadata": {},
   "outputs": [
    {
     "data": {
      "application/vnd.plotly.v1+json": {
       "config": {
        "plotlyServerURL": "https://plot.ly"
       },
       "data": [
        {
         "hovertemplate": "variable=OffshoreWindPower<br>Minutes5DK=%{x}<br>value=%{y}<extra></extra>",
         "legendgroup": "OffshoreWindPower",
         "line": {
          "color": "#636efa",
          "dash": "solid"
         },
         "marker": {
          "symbol": "circle"
         },
         "mode": "lines",
         "name": "OffshoreWindPower",
         "orientation": "v",
         "showlegend": true,
         "type": "scatter",
         "x": [
          "2023-02-05T16:20:00",
          "2023-02-05T16:25:00",
          "2023-02-05T16:30:00",
          "2023-02-05T16:35:00",
          "2023-02-05T16:40:00"
         ],
         "xaxis": "x",
         "y": [
          586.2700044999999,
          577.8549955000001,
          582.299988,
          570.980011,
          562.394989
         ],
         "yaxis": "y"
        },
        {
         "hovertemplate": "variable=OnshoreWindPower<br>Minutes5DK=%{x}<br>value=%{y}<extra></extra>",
         "legendgroup": "OnshoreWindPower",
         "line": {
          "color": "#EF553B",
          "dash": "solid"
         },
         "marker": {
          "symbol": "circle"
         },
         "mode": "lines",
         "name": "OnshoreWindPower",
         "orientation": "v",
         "showlegend": true,
         "type": "scatter",
         "x": [
          "2023-02-05T16:20:00",
          "2023-02-05T16:25:00",
          "2023-02-05T16:30:00",
          "2023-02-05T16:35:00",
          "2023-02-05T16:40:00"
         ],
         "xaxis": "x",
         "y": [
          572.2149695,
          544.3199920000001,
          529.6200025,
          527.239994,
          508.8649865
         ],
         "yaxis": "y"
        },
        {
         "hovertemplate": "variable=SolarPower<br>Minutes5DK=%{x}<br>value=%{y}<extra></extra>",
         "legendgroup": "SolarPower",
         "line": {
          "color": "#00cc96",
          "dash": "solid"
         },
         "marker": {
          "symbol": "circle"
         },
         "mode": "lines",
         "name": "SolarPower",
         "orientation": "v",
         "showlegend": true,
         "type": "scatter",
         "x": [
          "2023-02-05T16:20:00",
          "2023-02-05T16:25:00",
          "2023-02-05T16:30:00",
          "2023-02-05T16:35:00",
          "2023-02-05T16:40:00"
         ],
         "xaxis": "x",
         "y": [
          34.605,
          30.28,
          22.83,
          18.264999000000003,
          14.715
         ],
         "yaxis": "y"
        }
       ],
       "layout": {
        "legend": {
         "title": {
          "text": "variable"
         },
         "tracegroupgap": 0
        },
        "margin": {
         "t": 60
        },
        "template": {
         "data": {
          "bar": [
           {
            "error_x": {
             "color": "#2a3f5f"
            },
            "error_y": {
             "color": "#2a3f5f"
            },
            "marker": {
             "line": {
              "color": "#E5ECF6",
              "width": 0.5
             },
             "pattern": {
              "fillmode": "overlay",
              "size": 10,
              "solidity": 0.2
             }
            },
            "type": "bar"
           }
          ],
          "barpolar": [
           {
            "marker": {
             "line": {
              "color": "#E5ECF6",
              "width": 0.5
             },
             "pattern": {
              "fillmode": "overlay",
              "size": 10,
              "solidity": 0.2
             }
            },
            "type": "barpolar"
           }
          ],
          "carpet": [
           {
            "aaxis": {
             "endlinecolor": "#2a3f5f",
             "gridcolor": "white",
             "linecolor": "white",
             "minorgridcolor": "white",
             "startlinecolor": "#2a3f5f"
            },
            "baxis": {
             "endlinecolor": "#2a3f5f",
             "gridcolor": "white",
             "linecolor": "white",
             "minorgridcolor": "white",
             "startlinecolor": "#2a3f5f"
            },
            "type": "carpet"
           }
          ],
          "choropleth": [
           {
            "colorbar": {
             "outlinewidth": 0,
             "ticks": ""
            },
            "type": "choropleth"
           }
          ],
          "contour": [
           {
            "colorbar": {
             "outlinewidth": 0,
             "ticks": ""
            },
            "colorscale": [
             [
              0,
              "#0d0887"
             ],
             [
              0.1111111111111111,
              "#46039f"
             ],
             [
              0.2222222222222222,
              "#7201a8"
             ],
             [
              0.3333333333333333,
              "#9c179e"
             ],
             [
              0.4444444444444444,
              "#bd3786"
             ],
             [
              0.5555555555555556,
              "#d8576b"
             ],
             [
              0.6666666666666666,
              "#ed7953"
             ],
             [
              0.7777777777777778,
              "#fb9f3a"
             ],
             [
              0.8888888888888888,
              "#fdca26"
             ],
             [
              1,
              "#f0f921"
             ]
            ],
            "type": "contour"
           }
          ],
          "contourcarpet": [
           {
            "colorbar": {
             "outlinewidth": 0,
             "ticks": ""
            },
            "type": "contourcarpet"
           }
          ],
          "heatmap": [
           {
            "colorbar": {
             "outlinewidth": 0,
             "ticks": ""
            },
            "colorscale": [
             [
              0,
              "#0d0887"
             ],
             [
              0.1111111111111111,
              "#46039f"
             ],
             [
              0.2222222222222222,
              "#7201a8"
             ],
             [
              0.3333333333333333,
              "#9c179e"
             ],
             [
              0.4444444444444444,
              "#bd3786"
             ],
             [
              0.5555555555555556,
              "#d8576b"
             ],
             [
              0.6666666666666666,
              "#ed7953"
             ],
             [
              0.7777777777777778,
              "#fb9f3a"
             ],
             [
              0.8888888888888888,
              "#fdca26"
             ],
             [
              1,
              "#f0f921"
             ]
            ],
            "type": "heatmap"
           }
          ],
          "heatmapgl": [
           {
            "colorbar": {
             "outlinewidth": 0,
             "ticks": ""
            },
            "colorscale": [
             [
              0,
              "#0d0887"
             ],
             [
              0.1111111111111111,
              "#46039f"
             ],
             [
              0.2222222222222222,
              "#7201a8"
             ],
             [
              0.3333333333333333,
              "#9c179e"
             ],
             [
              0.4444444444444444,
              "#bd3786"
             ],
             [
              0.5555555555555556,
              "#d8576b"
             ],
             [
              0.6666666666666666,
              "#ed7953"
             ],
             [
              0.7777777777777778,
              "#fb9f3a"
             ],
             [
              0.8888888888888888,
              "#fdca26"
             ],
             [
              1,
              "#f0f921"
             ]
            ],
            "type": "heatmapgl"
           }
          ],
          "histogram": [
           {
            "marker": {
             "pattern": {
              "fillmode": "overlay",
              "size": 10,
              "solidity": 0.2
             }
            },
            "type": "histogram"
           }
          ],
          "histogram2d": [
           {
            "colorbar": {
             "outlinewidth": 0,
             "ticks": ""
            },
            "colorscale": [
             [
              0,
              "#0d0887"
             ],
             [
              0.1111111111111111,
              "#46039f"
             ],
             [
              0.2222222222222222,
              "#7201a8"
             ],
             [
              0.3333333333333333,
              "#9c179e"
             ],
             [
              0.4444444444444444,
              "#bd3786"
             ],
             [
              0.5555555555555556,
              "#d8576b"
             ],
             [
              0.6666666666666666,
              "#ed7953"
             ],
             [
              0.7777777777777778,
              "#fb9f3a"
             ],
             [
              0.8888888888888888,
              "#fdca26"
             ],
             [
              1,
              "#f0f921"
             ]
            ],
            "type": "histogram2d"
           }
          ],
          "histogram2dcontour": [
           {
            "colorbar": {
             "outlinewidth": 0,
             "ticks": ""
            },
            "colorscale": [
             [
              0,
              "#0d0887"
             ],
             [
              0.1111111111111111,
              "#46039f"
             ],
             [
              0.2222222222222222,
              "#7201a8"
             ],
             [
              0.3333333333333333,
              "#9c179e"
             ],
             [
              0.4444444444444444,
              "#bd3786"
             ],
             [
              0.5555555555555556,
              "#d8576b"
             ],
             [
              0.6666666666666666,
              "#ed7953"
             ],
             [
              0.7777777777777778,
              "#fb9f3a"
             ],
             [
              0.8888888888888888,
              "#fdca26"
             ],
             [
              1,
              "#f0f921"
             ]
            ],
            "type": "histogram2dcontour"
           }
          ],
          "mesh3d": [
           {
            "colorbar": {
             "outlinewidth": 0,
             "ticks": ""
            },
            "type": "mesh3d"
           }
          ],
          "parcoords": [
           {
            "line": {
             "colorbar": {
              "outlinewidth": 0,
              "ticks": ""
             }
            },
            "type": "parcoords"
           }
          ],
          "pie": [
           {
            "automargin": true,
            "type": "pie"
           }
          ],
          "scatter": [
           {
            "fillpattern": {
             "fillmode": "overlay",
             "size": 10,
             "solidity": 0.2
            },
            "type": "scatter"
           }
          ],
          "scatter3d": [
           {
            "line": {
             "colorbar": {
              "outlinewidth": 0,
              "ticks": ""
             }
            },
            "marker": {
             "colorbar": {
              "outlinewidth": 0,
              "ticks": ""
             }
            },
            "type": "scatter3d"
           }
          ],
          "scattercarpet": [
           {
            "marker": {
             "colorbar": {
              "outlinewidth": 0,
              "ticks": ""
             }
            },
            "type": "scattercarpet"
           }
          ],
          "scattergeo": [
           {
            "marker": {
             "colorbar": {
              "outlinewidth": 0,
              "ticks": ""
             }
            },
            "type": "scattergeo"
           }
          ],
          "scattergl": [
           {
            "marker": {
             "colorbar": {
              "outlinewidth": 0,
              "ticks": ""
             }
            },
            "type": "scattergl"
           }
          ],
          "scattermapbox": [
           {
            "marker": {
             "colorbar": {
              "outlinewidth": 0,
              "ticks": ""
             }
            },
            "type": "scattermapbox"
           }
          ],
          "scatterpolar": [
           {
            "marker": {
             "colorbar": {
              "outlinewidth": 0,
              "ticks": ""
             }
            },
            "type": "scatterpolar"
           }
          ],
          "scatterpolargl": [
           {
            "marker": {
             "colorbar": {
              "outlinewidth": 0,
              "ticks": ""
             }
            },
            "type": "scatterpolargl"
           }
          ],
          "scatterternary": [
           {
            "marker": {
             "colorbar": {
              "outlinewidth": 0,
              "ticks": ""
             }
            },
            "type": "scatterternary"
           }
          ],
          "surface": [
           {
            "colorbar": {
             "outlinewidth": 0,
             "ticks": ""
            },
            "colorscale": [
             [
              0,
              "#0d0887"
             ],
             [
              0.1111111111111111,
              "#46039f"
             ],
             [
              0.2222222222222222,
              "#7201a8"
             ],
             [
              0.3333333333333333,
              "#9c179e"
             ],
             [
              0.4444444444444444,
              "#bd3786"
             ],
             [
              0.5555555555555556,
              "#d8576b"
             ],
             [
              0.6666666666666666,
              "#ed7953"
             ],
             [
              0.7777777777777778,
              "#fb9f3a"
             ],
             [
              0.8888888888888888,
              "#fdca26"
             ],
             [
              1,
              "#f0f921"
             ]
            ],
            "type": "surface"
           }
          ],
          "table": [
           {
            "cells": {
             "fill": {
              "color": "#EBF0F8"
             },
             "line": {
              "color": "white"
             }
            },
            "header": {
             "fill": {
              "color": "#C8D4E3"
             },
             "line": {
              "color": "white"
             }
            },
            "type": "table"
           }
          ]
         },
         "layout": {
          "annotationdefaults": {
           "arrowcolor": "#2a3f5f",
           "arrowhead": 0,
           "arrowwidth": 1
          },
          "autotypenumbers": "strict",
          "coloraxis": {
           "colorbar": {
            "outlinewidth": 0,
            "ticks": ""
           }
          },
          "colorscale": {
           "diverging": [
            [
             0,
             "#8e0152"
            ],
            [
             0.1,
             "#c51b7d"
            ],
            [
             0.2,
             "#de77ae"
            ],
            [
             0.3,
             "#f1b6da"
            ],
            [
             0.4,
             "#fde0ef"
            ],
            [
             0.5,
             "#f7f7f7"
            ],
            [
             0.6,
             "#e6f5d0"
            ],
            [
             0.7,
             "#b8e186"
            ],
            [
             0.8,
             "#7fbc41"
            ],
            [
             0.9,
             "#4d9221"
            ],
            [
             1,
             "#276419"
            ]
           ],
           "sequential": [
            [
             0,
             "#0d0887"
            ],
            [
             0.1111111111111111,
             "#46039f"
            ],
            [
             0.2222222222222222,
             "#7201a8"
            ],
            [
             0.3333333333333333,
             "#9c179e"
            ],
            [
             0.4444444444444444,
             "#bd3786"
            ],
            [
             0.5555555555555556,
             "#d8576b"
            ],
            [
             0.6666666666666666,
             "#ed7953"
            ],
            [
             0.7777777777777778,
             "#fb9f3a"
            ],
            [
             0.8888888888888888,
             "#fdca26"
            ],
            [
             1,
             "#f0f921"
            ]
           ],
           "sequentialminus": [
            [
             0,
             "#0d0887"
            ],
            [
             0.1111111111111111,
             "#46039f"
            ],
            [
             0.2222222222222222,
             "#7201a8"
            ],
            [
             0.3333333333333333,
             "#9c179e"
            ],
            [
             0.4444444444444444,
             "#bd3786"
            ],
            [
             0.5555555555555556,
             "#d8576b"
            ],
            [
             0.6666666666666666,
             "#ed7953"
            ],
            [
             0.7777777777777778,
             "#fb9f3a"
            ],
            [
             0.8888888888888888,
             "#fdca26"
            ],
            [
             1,
             "#f0f921"
            ]
           ]
          },
          "colorway": [
           "#636efa",
           "#EF553B",
           "#00cc96",
           "#ab63fa",
           "#FFA15A",
           "#19d3f3",
           "#FF6692",
           "#B6E880",
           "#FF97FF",
           "#FECB52"
          ],
          "font": {
           "color": "#2a3f5f"
          },
          "geo": {
           "bgcolor": "white",
           "lakecolor": "white",
           "landcolor": "#E5ECF6",
           "showlakes": true,
           "showland": true,
           "subunitcolor": "white"
          },
          "hoverlabel": {
           "align": "left"
          },
          "hovermode": "closest",
          "mapbox": {
           "style": "light"
          },
          "paper_bgcolor": "white",
          "plot_bgcolor": "#E5ECF6",
          "polar": {
           "angularaxis": {
            "gridcolor": "white",
            "linecolor": "white",
            "ticks": ""
           },
           "bgcolor": "#E5ECF6",
           "radialaxis": {
            "gridcolor": "white",
            "linecolor": "white",
            "ticks": ""
           }
          },
          "scene": {
           "xaxis": {
            "backgroundcolor": "#E5ECF6",
            "gridcolor": "white",
            "gridwidth": 2,
            "linecolor": "white",
            "showbackground": true,
            "ticks": "",
            "zerolinecolor": "white"
           },
           "yaxis": {
            "backgroundcolor": "#E5ECF6",
            "gridcolor": "white",
            "gridwidth": 2,
            "linecolor": "white",
            "showbackground": true,
            "ticks": "",
            "zerolinecolor": "white"
           },
           "zaxis": {
            "backgroundcolor": "#E5ECF6",
            "gridcolor": "white",
            "gridwidth": 2,
            "linecolor": "white",
            "showbackground": true,
            "ticks": "",
            "zerolinecolor": "white"
           }
          },
          "shapedefaults": {
           "line": {
            "color": "#2a3f5f"
           }
          },
          "ternary": {
           "aaxis": {
            "gridcolor": "white",
            "linecolor": "white",
            "ticks": ""
           },
           "baxis": {
            "gridcolor": "white",
            "linecolor": "white",
            "ticks": ""
           },
           "bgcolor": "#E5ECF6",
           "caxis": {
            "gridcolor": "white",
            "linecolor": "white",
            "ticks": ""
           }
          },
          "title": {
           "x": 0.05
          },
          "xaxis": {
           "automargin": true,
           "gridcolor": "white",
           "linecolor": "white",
           "ticks": "",
           "title": {
            "standoff": 15
           },
           "zerolinecolor": "white",
           "zerolinewidth": 2
          },
          "yaxis": {
           "automargin": true,
           "gridcolor": "white",
           "linecolor": "white",
           "ticks": "",
           "title": {
            "standoff": 15
           },
           "zerolinecolor": "white",
           "zerolinewidth": 2
          }
         }
        },
        "xaxis": {
         "anchor": "y",
         "domain": [
          0,
          1
         ],
         "title": {
          "text": "Minutes5DK"
         }
        },
        "yaxis": {
         "anchor": "x",
         "domain": [
          0,
          1
         ],
         "title": {
          "text": "value"
         }
        }
       }
      }
     },
     "metadata": {},
     "output_type": "display_data"
    }
   ],
   "source": [
    "px.line(data_frame = avg_by_minute, x=avg_by_minute.index, y=[\"OffshoreWindPower\", \"OnshoreWindPower\", \"SolarPower\"])"
   ]
  },
  {
   "cell_type": "code",
   "execution_count": null,
   "metadata": {},
   "outputs": [
    {
     "data": {
      "application/vnd.plotly.v1+json": {
       "config": {
        "plotlyServerURL": "https://plot.ly"
       },
       "data": [
        {
         "hovertemplate": "variable=ExchangeGermany<br>Minutes5DK=%{x}<br>value=%{y}<extra></extra>",
         "legendgroup": "ExchangeGermany",
         "line": {
          "color": "#636efa",
          "dash": "solid"
         },
         "marker": {
          "symbol": "circle"
         },
         "mode": "lines",
         "name": "ExchangeGermany",
         "orientation": "v",
         "showlegend": true,
         "type": "scatter",
         "x": [
          "2023-02-05T16:20:00",
          "2023-02-05T16:25:00",
          "2023-02-05T16:30:00",
          "2023-02-05T16:35:00",
          "2023-02-05T16:40:00"
         ],
         "xaxis": "x",
         "y": [
          -547.8399965000001,
          -518.6999969999999,
          -505.3099975,
          -504.899994,
          -507.01001
         ],
         "yaxis": "y"
        },
        {
         "hovertemplate": "variable=ExchangeNetherlands<br>Minutes5DK=%{x}<br>value=%{y}<extra></extra>",
         "legendgroup": "ExchangeNetherlands",
         "line": {
          "color": "#EF553B",
          "dash": "solid"
         },
         "marker": {
          "symbol": "circle"
         },
         "mode": "lines",
         "name": "ExchangeNetherlands",
         "orientation": "v",
         "showlegend": true,
         "type": "scatter",
         "x": [
          "2023-02-05T16:20:00",
          "2023-02-05T16:25:00",
          "2023-02-05T16:30:00",
          "2023-02-05T16:35:00",
          "2023-02-05T16:40:00"
         ],
         "xaxis": "x",
         "y": [
          -646.130005,
          -646.130005,
          -646.130005,
          -646.130005,
          -646.130005
         ],
         "yaxis": "y"
        },
        {
         "hovertemplate": "variable=ExchangeNorway<br>Minutes5DK=%{x}<br>value=%{y}<extra></extra>",
         "legendgroup": "ExchangeNorway",
         "line": {
          "color": "#00cc96",
          "dash": "solid"
         },
         "marker": {
          "symbol": "circle"
         },
         "mode": "lines",
         "name": "ExchangeNorway",
         "orientation": "v",
         "showlegend": true,
         "type": "scatter",
         "x": [
          "2023-02-05T16:20:00",
          "2023-02-05T16:25:00",
          "2023-02-05T16:30:00",
          "2023-02-05T16:35:00",
          "2023-02-05T16:40:00"
         ],
         "xaxis": "x",
         "y": [
          482.480011,
          483.48999,
          484.049988,
          484.070007,
          483.440002
         ],
         "yaxis": "y"
        },
        {
         "hovertemplate": "variable=ExchangeSweden<br>Minutes5DK=%{x}<br>value=%{y}<extra></extra>",
         "legendgroup": "ExchangeSweden",
         "line": {
          "color": "#ab63fa",
          "dash": "solid"
         },
         "marker": {
          "symbol": "circle"
         },
         "mode": "lines",
         "name": "ExchangeSweden",
         "orientation": "v",
         "showlegend": true,
         "type": "scatter",
         "x": [
          "2023-02-05T16:20:00",
          "2023-02-05T16:25:00",
          "2023-02-05T16:30:00",
          "2023-02-05T16:35:00",
          "2023-02-05T16:40:00"
         ],
         "xaxis": "x",
         "y": [
          434.8200075,
          439.4649965,
          443.3099975,
          469.755005,
          519.6099855
         ],
         "yaxis": "y"
        }
       ],
       "layout": {
        "legend": {
         "title": {
          "text": "variable"
         },
         "tracegroupgap": 0
        },
        "margin": {
         "t": 60
        },
        "template": {
         "data": {
          "bar": [
           {
            "error_x": {
             "color": "#2a3f5f"
            },
            "error_y": {
             "color": "#2a3f5f"
            },
            "marker": {
             "line": {
              "color": "#E5ECF6",
              "width": 0.5
             },
             "pattern": {
              "fillmode": "overlay",
              "size": 10,
              "solidity": 0.2
             }
            },
            "type": "bar"
           }
          ],
          "barpolar": [
           {
            "marker": {
             "line": {
              "color": "#E5ECF6",
              "width": 0.5
             },
             "pattern": {
              "fillmode": "overlay",
              "size": 10,
              "solidity": 0.2
             }
            },
            "type": "barpolar"
           }
          ],
          "carpet": [
           {
            "aaxis": {
             "endlinecolor": "#2a3f5f",
             "gridcolor": "white",
             "linecolor": "white",
             "minorgridcolor": "white",
             "startlinecolor": "#2a3f5f"
            },
            "baxis": {
             "endlinecolor": "#2a3f5f",
             "gridcolor": "white",
             "linecolor": "white",
             "minorgridcolor": "white",
             "startlinecolor": "#2a3f5f"
            },
            "type": "carpet"
           }
          ],
          "choropleth": [
           {
            "colorbar": {
             "outlinewidth": 0,
             "ticks": ""
            },
            "type": "choropleth"
           }
          ],
          "contour": [
           {
            "colorbar": {
             "outlinewidth": 0,
             "ticks": ""
            },
            "colorscale": [
             [
              0,
              "#0d0887"
             ],
             [
              0.1111111111111111,
              "#46039f"
             ],
             [
              0.2222222222222222,
              "#7201a8"
             ],
             [
              0.3333333333333333,
              "#9c179e"
             ],
             [
              0.4444444444444444,
              "#bd3786"
             ],
             [
              0.5555555555555556,
              "#d8576b"
             ],
             [
              0.6666666666666666,
              "#ed7953"
             ],
             [
              0.7777777777777778,
              "#fb9f3a"
             ],
             [
              0.8888888888888888,
              "#fdca26"
             ],
             [
              1,
              "#f0f921"
             ]
            ],
            "type": "contour"
           }
          ],
          "contourcarpet": [
           {
            "colorbar": {
             "outlinewidth": 0,
             "ticks": ""
            },
            "type": "contourcarpet"
           }
          ],
          "heatmap": [
           {
            "colorbar": {
             "outlinewidth": 0,
             "ticks": ""
            },
            "colorscale": [
             [
              0,
              "#0d0887"
             ],
             [
              0.1111111111111111,
              "#46039f"
             ],
             [
              0.2222222222222222,
              "#7201a8"
             ],
             [
              0.3333333333333333,
              "#9c179e"
             ],
             [
              0.4444444444444444,
              "#bd3786"
             ],
             [
              0.5555555555555556,
              "#d8576b"
             ],
             [
              0.6666666666666666,
              "#ed7953"
             ],
             [
              0.7777777777777778,
              "#fb9f3a"
             ],
             [
              0.8888888888888888,
              "#fdca26"
             ],
             [
              1,
              "#f0f921"
             ]
            ],
            "type": "heatmap"
           }
          ],
          "heatmapgl": [
           {
            "colorbar": {
             "outlinewidth": 0,
             "ticks": ""
            },
            "colorscale": [
             [
              0,
              "#0d0887"
             ],
             [
              0.1111111111111111,
              "#46039f"
             ],
             [
              0.2222222222222222,
              "#7201a8"
             ],
             [
              0.3333333333333333,
              "#9c179e"
             ],
             [
              0.4444444444444444,
              "#bd3786"
             ],
             [
              0.5555555555555556,
              "#d8576b"
             ],
             [
              0.6666666666666666,
              "#ed7953"
             ],
             [
              0.7777777777777778,
              "#fb9f3a"
             ],
             [
              0.8888888888888888,
              "#fdca26"
             ],
             [
              1,
              "#f0f921"
             ]
            ],
            "type": "heatmapgl"
           }
          ],
          "histogram": [
           {
            "marker": {
             "pattern": {
              "fillmode": "overlay",
              "size": 10,
              "solidity": 0.2
             }
            },
            "type": "histogram"
           }
          ],
          "histogram2d": [
           {
            "colorbar": {
             "outlinewidth": 0,
             "ticks": ""
            },
            "colorscale": [
             [
              0,
              "#0d0887"
             ],
             [
              0.1111111111111111,
              "#46039f"
             ],
             [
              0.2222222222222222,
              "#7201a8"
             ],
             [
              0.3333333333333333,
              "#9c179e"
             ],
             [
              0.4444444444444444,
              "#bd3786"
             ],
             [
              0.5555555555555556,
              "#d8576b"
             ],
             [
              0.6666666666666666,
              "#ed7953"
             ],
             [
              0.7777777777777778,
              "#fb9f3a"
             ],
             [
              0.8888888888888888,
              "#fdca26"
             ],
             [
              1,
              "#f0f921"
             ]
            ],
            "type": "histogram2d"
           }
          ],
          "histogram2dcontour": [
           {
            "colorbar": {
             "outlinewidth": 0,
             "ticks": ""
            },
            "colorscale": [
             [
              0,
              "#0d0887"
             ],
             [
              0.1111111111111111,
              "#46039f"
             ],
             [
              0.2222222222222222,
              "#7201a8"
             ],
             [
              0.3333333333333333,
              "#9c179e"
             ],
             [
              0.4444444444444444,
              "#bd3786"
             ],
             [
              0.5555555555555556,
              "#d8576b"
             ],
             [
              0.6666666666666666,
              "#ed7953"
             ],
             [
              0.7777777777777778,
              "#fb9f3a"
             ],
             [
              0.8888888888888888,
              "#fdca26"
             ],
             [
              1,
              "#f0f921"
             ]
            ],
            "type": "histogram2dcontour"
           }
          ],
          "mesh3d": [
           {
            "colorbar": {
             "outlinewidth": 0,
             "ticks": ""
            },
            "type": "mesh3d"
           }
          ],
          "parcoords": [
           {
            "line": {
             "colorbar": {
              "outlinewidth": 0,
              "ticks": ""
             }
            },
            "type": "parcoords"
           }
          ],
          "pie": [
           {
            "automargin": true,
            "type": "pie"
           }
          ],
          "scatter": [
           {
            "fillpattern": {
             "fillmode": "overlay",
             "size": 10,
             "solidity": 0.2
            },
            "type": "scatter"
           }
          ],
          "scatter3d": [
           {
            "line": {
             "colorbar": {
              "outlinewidth": 0,
              "ticks": ""
             }
            },
            "marker": {
             "colorbar": {
              "outlinewidth": 0,
              "ticks": ""
             }
            },
            "type": "scatter3d"
           }
          ],
          "scattercarpet": [
           {
            "marker": {
             "colorbar": {
              "outlinewidth": 0,
              "ticks": ""
             }
            },
            "type": "scattercarpet"
           }
          ],
          "scattergeo": [
           {
            "marker": {
             "colorbar": {
              "outlinewidth": 0,
              "ticks": ""
             }
            },
            "type": "scattergeo"
           }
          ],
          "scattergl": [
           {
            "marker": {
             "colorbar": {
              "outlinewidth": 0,
              "ticks": ""
             }
            },
            "type": "scattergl"
           }
          ],
          "scattermapbox": [
           {
            "marker": {
             "colorbar": {
              "outlinewidth": 0,
              "ticks": ""
             }
            },
            "type": "scattermapbox"
           }
          ],
          "scatterpolar": [
           {
            "marker": {
             "colorbar": {
              "outlinewidth": 0,
              "ticks": ""
             }
            },
            "type": "scatterpolar"
           }
          ],
          "scatterpolargl": [
           {
            "marker": {
             "colorbar": {
              "outlinewidth": 0,
              "ticks": ""
             }
            },
            "type": "scatterpolargl"
           }
          ],
          "scatterternary": [
           {
            "marker": {
             "colorbar": {
              "outlinewidth": 0,
              "ticks": ""
             }
            },
            "type": "scatterternary"
           }
          ],
          "surface": [
           {
            "colorbar": {
             "outlinewidth": 0,
             "ticks": ""
            },
            "colorscale": [
             [
              0,
              "#0d0887"
             ],
             [
              0.1111111111111111,
              "#46039f"
             ],
             [
              0.2222222222222222,
              "#7201a8"
             ],
             [
              0.3333333333333333,
              "#9c179e"
             ],
             [
              0.4444444444444444,
              "#bd3786"
             ],
             [
              0.5555555555555556,
              "#d8576b"
             ],
             [
              0.6666666666666666,
              "#ed7953"
             ],
             [
              0.7777777777777778,
              "#fb9f3a"
             ],
             [
              0.8888888888888888,
              "#fdca26"
             ],
             [
              1,
              "#f0f921"
             ]
            ],
            "type": "surface"
           }
          ],
          "table": [
           {
            "cells": {
             "fill": {
              "color": "#EBF0F8"
             },
             "line": {
              "color": "white"
             }
            },
            "header": {
             "fill": {
              "color": "#C8D4E3"
             },
             "line": {
              "color": "white"
             }
            },
            "type": "table"
           }
          ]
         },
         "layout": {
          "annotationdefaults": {
           "arrowcolor": "#2a3f5f",
           "arrowhead": 0,
           "arrowwidth": 1
          },
          "autotypenumbers": "strict",
          "coloraxis": {
           "colorbar": {
            "outlinewidth": 0,
            "ticks": ""
           }
          },
          "colorscale": {
           "diverging": [
            [
             0,
             "#8e0152"
            ],
            [
             0.1,
             "#c51b7d"
            ],
            [
             0.2,
             "#de77ae"
            ],
            [
             0.3,
             "#f1b6da"
            ],
            [
             0.4,
             "#fde0ef"
            ],
            [
             0.5,
             "#f7f7f7"
            ],
            [
             0.6,
             "#e6f5d0"
            ],
            [
             0.7,
             "#b8e186"
            ],
            [
             0.8,
             "#7fbc41"
            ],
            [
             0.9,
             "#4d9221"
            ],
            [
             1,
             "#276419"
            ]
           ],
           "sequential": [
            [
             0,
             "#0d0887"
            ],
            [
             0.1111111111111111,
             "#46039f"
            ],
            [
             0.2222222222222222,
             "#7201a8"
            ],
            [
             0.3333333333333333,
             "#9c179e"
            ],
            [
             0.4444444444444444,
             "#bd3786"
            ],
            [
             0.5555555555555556,
             "#d8576b"
            ],
            [
             0.6666666666666666,
             "#ed7953"
            ],
            [
             0.7777777777777778,
             "#fb9f3a"
            ],
            [
             0.8888888888888888,
             "#fdca26"
            ],
            [
             1,
             "#f0f921"
            ]
           ],
           "sequentialminus": [
            [
             0,
             "#0d0887"
            ],
            [
             0.1111111111111111,
             "#46039f"
            ],
            [
             0.2222222222222222,
             "#7201a8"
            ],
            [
             0.3333333333333333,
             "#9c179e"
            ],
            [
             0.4444444444444444,
             "#bd3786"
            ],
            [
             0.5555555555555556,
             "#d8576b"
            ],
            [
             0.6666666666666666,
             "#ed7953"
            ],
            [
             0.7777777777777778,
             "#fb9f3a"
            ],
            [
             0.8888888888888888,
             "#fdca26"
            ],
            [
             1,
             "#f0f921"
            ]
           ]
          },
          "colorway": [
           "#636efa",
           "#EF553B",
           "#00cc96",
           "#ab63fa",
           "#FFA15A",
           "#19d3f3",
           "#FF6692",
           "#B6E880",
           "#FF97FF",
           "#FECB52"
          ],
          "font": {
           "color": "#2a3f5f"
          },
          "geo": {
           "bgcolor": "white",
           "lakecolor": "white",
           "landcolor": "#E5ECF6",
           "showlakes": true,
           "showland": true,
           "subunitcolor": "white"
          },
          "hoverlabel": {
           "align": "left"
          },
          "hovermode": "closest",
          "mapbox": {
           "style": "light"
          },
          "paper_bgcolor": "white",
          "plot_bgcolor": "#E5ECF6",
          "polar": {
           "angularaxis": {
            "gridcolor": "white",
            "linecolor": "white",
            "ticks": ""
           },
           "bgcolor": "#E5ECF6",
           "radialaxis": {
            "gridcolor": "white",
            "linecolor": "white",
            "ticks": ""
           }
          },
          "scene": {
           "xaxis": {
            "backgroundcolor": "#E5ECF6",
            "gridcolor": "white",
            "gridwidth": 2,
            "linecolor": "white",
            "showbackground": true,
            "ticks": "",
            "zerolinecolor": "white"
           },
           "yaxis": {
            "backgroundcolor": "#E5ECF6",
            "gridcolor": "white",
            "gridwidth": 2,
            "linecolor": "white",
            "showbackground": true,
            "ticks": "",
            "zerolinecolor": "white"
           },
           "zaxis": {
            "backgroundcolor": "#E5ECF6",
            "gridcolor": "white",
            "gridwidth": 2,
            "linecolor": "white",
            "showbackground": true,
            "ticks": "",
            "zerolinecolor": "white"
           }
          },
          "shapedefaults": {
           "line": {
            "color": "#2a3f5f"
           }
          },
          "ternary": {
           "aaxis": {
            "gridcolor": "white",
            "linecolor": "white",
            "ticks": ""
           },
           "baxis": {
            "gridcolor": "white",
            "linecolor": "white",
            "ticks": ""
           },
           "bgcolor": "#E5ECF6",
           "caxis": {
            "gridcolor": "white",
            "linecolor": "white",
            "ticks": ""
           }
          },
          "title": {
           "x": 0.05
          },
          "xaxis": {
           "automargin": true,
           "gridcolor": "white",
           "linecolor": "white",
           "ticks": "",
           "title": {
            "standoff": 15
           },
           "zerolinecolor": "white",
           "zerolinewidth": 2
          },
          "yaxis": {
           "automargin": true,
           "gridcolor": "white",
           "linecolor": "white",
           "ticks": "",
           "title": {
            "standoff": 15
           },
           "zerolinecolor": "white",
           "zerolinewidth": 2
          }
         }
        },
        "xaxis": {
         "anchor": "y",
         "domain": [
          0,
          1
         ],
         "title": {
          "text": "Minutes5DK"
         }
        },
        "yaxis": {
         "anchor": "x",
         "domain": [
          0,
          1
         ],
         "title": {
          "text": "value"
         }
        }
       }
      }
     },
     "metadata": {},
     "output_type": "display_data"
    }
   ],
   "source": [
    "px.line(data_frame = avg_by_minute, x=avg_by_minute.index, y=[\"ExchangeGermany\", \"ExchangeNetherlands\", \"ExchangeNorway\", \"ExchangeSweden\"])\n"
   ]
  },
  {
   "cell_type": "code",
   "execution_count": null,
   "metadata": {},
   "outputs": [],
   "source": []
  }
 ],
 "metadata": {
  "kernelspec": {
   "display_name": "Python 3.8.10 64-bit",
   "language": "python",
   "name": "python3"
  },
  "language_info": {
   "codemirror_mode": {
    "name": "ipython",
    "version": 3
   },
   "file_extension": ".py",
   "mimetype": "text/x-python",
   "name": "python",
   "nbconvert_exporter": "python",
   "pygments_lexer": "ipython3",
   "version": "3.10.6"
  },
  "orig_nbformat": 4,
  "vscode": {
   "interpreter": {
    "hash": "e7370f93d1d0cde622a1f8e1c04877d8463912d04d973331ad4851f04de6915a"
   }
  }
 },
 "nbformat": 4,
 "nbformat_minor": 2
}
